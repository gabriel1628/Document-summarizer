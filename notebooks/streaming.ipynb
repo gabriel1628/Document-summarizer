{
 "cells": [
  {
   "cell_type": "markdown",
   "id": "1a87cfed",
   "metadata": {},
   "source": [
    "Source code: https://python.langchain.com/docs/tutorials/llm_chain/"
   ]
  },
  {
   "cell_type": "code",
   "execution_count": 2,
   "id": "0e9c939f",
   "metadata": {},
   "outputs": [],
   "source": [
    "from langchain_core.messages import HumanMessage, SystemMessage\n",
    "from langchain.chat_models import init_chat_model\n",
    "import getpass\n",
    "import os\n",
    "\n",
    "try:\n",
    "    # load environment variables from .env file (requires `python-dotenv`)\n",
    "    from dotenv import load_dotenv\n",
    "\n",
    "    load_dotenv()\n",
    "except ImportError:\n",
    "    pass\n",
    "\n",
    "if \"OPENAI_API_KEY\" not in os.environ:\n",
    "    os.environ[\"OPENAI_API_KEY\"] = getpass.getpass(\n",
    "        prompt=\"Enter your OpenAI API key (required if using OpenAI): \"\n",
    "    )\n",
    "\n",
    "model = init_chat_model(\"gpt-4o-mini\", model_provider=\"openai\")"
   ]
  },
  {
   "cell_type": "markdown",
   "id": "9433610f",
   "metadata": {},
   "source": [
    "LangChain also supports chat model inputs via strings or OpenAI format. The following are equivalent:\n",
    "```Python\n",
    "model.invoke(\"Hello\")\n",
    "\n",
    "model.invoke([{\"role\": \"user\", \"content\": \"Hello\"}])\n",
    "\n",
    "model.invoke([HumanMessage(\"Hello\")])\n",
    "```"
   ]
  },
  {
   "cell_type": "code",
   "execution_count": 3,
   "id": "0417318f",
   "metadata": {},
   "outputs": [],
   "source": [
    "messages = [\n",
    "    SystemMessage(\"You are a helpful assistant specialized in Python programming.\"),\n",
    "    HumanMessage(\"What is Langchain?\"),\n",
    "]"
   ]
  },
  {
   "cell_type": "code",
   "execution_count": 12,
   "id": "d8492746",
   "metadata": {},
   "outputs": [
    {
     "name": "stdout",
     "output_type": "stream",
     "text": [
      "|Lang|Chain| is| an| open|-source| framework| designed| for| building| applications| powered| by| large| language| models| (|LL|Ms|).| It| provides| tools| and| modules| to| facilitate| the| development| of| applications| that| interact| with| L|LM|s| in| a| structured| and| scalable| way|.| Some| of| the| core| features| of| Lang|Chain| include|:\n",
      "\n",
      "|1|.| **|Chains|**|:| Lang|Chain| allows| developers| to| create| chains| of| actions| that| can| involve| multiple| calls| to| an| L|LM|,| along| with| possible| branching|,| looping|,| and| other| control| flow| constructs|.\n",
      "\n",
      "|2|.| **|Agents|**|:| The| framework| supports| the| creation| of| agents| that| can| make| decisions| based| on| the| outputs| from| the| L|LM|s|.| This| enables| applications| that| can| autonom|ously| respond| to| user| inputs|,| gather| information|,| or| execute| tasks| based| on| natural| language| prompts|.\n",
      "\n",
      "|3|.| **|Memory|**|:| Lang|Chain| includes| features| for| state| management|,| allowing| applications| to| remember| past| interactions| with| users| or| data| that| has| been| processed|.\n",
      "\n",
      "|4|.| **|Integr|ations|**|:| Lang|Chain| offers| integrations| with| various| APIs|,| databases|,| and| other| tools|,| making| it| easier| to| create| more| complex| applications| that| leverage| external| data| sources| and| functionalities| alongside| L|LM|s|.\n",
      "\n",
      "|5|.| **|Prompt| Management|**|:| The| framework| provides| utilities| for| managing| and| optimizing| prompts|,| which| are| critical| for| getting| the| best| results| from| L|LM|s|.\n",
      "\n",
      "|6|.| **|Custom| Components|**|:| Lang|Chain| allows| developers| to| create| custom| components| that| can| be| seamlessly| integrated| into| their| applications|,| providing| flexibility| for| various| use| cases|.\n",
      "\n",
      "|Overall|,| Lang|Chain| is| well|-s|uited| for| projects| involving| conversational| agents|,| chat|bots|,| data| augmentation|,| document| retrieval|,| and| other| applications| where| human|-like| text| generation| and| manipulation| are| required|.| It| stream|lines| the| process| of| leveraging| L|LM|s| while| incorporating| best| practices| in| software| engineering|.||"
     ]
    }
   ],
   "source": [
    "answer = \"\"\n",
    "for token in model.stream(messages):\n",
    "    print(token.content, end=\"|\")\n",
    "    answer += token.content"
   ]
  },
  {
   "cell_type": "code",
   "execution_count": 13,
   "id": "38375ea7",
   "metadata": {},
   "outputs": [
    {
     "data": {
      "text/markdown": [
       "LangChain is an open-source framework designed for building applications powered by large language models (LLMs). It provides tools and modules to facilitate the development of applications that interact with LLMs in a structured and scalable way. Some of the core features of LangChain include:\n",
       "\n",
       "1. **Chains**: LangChain allows developers to create chains of actions that can involve multiple calls to an LLM, along with possible branching, looping, and other control flow constructs.\n",
       "\n",
       "2. **Agents**: The framework supports the creation of agents that can make decisions based on the outputs from the LLMs. This enables applications that can autonomously respond to user inputs, gather information, or execute tasks based on natural language prompts.\n",
       "\n",
       "3. **Memory**: LangChain includes features for state management, allowing applications to remember past interactions with users or data that has been processed.\n",
       "\n",
       "4. **Integrations**: LangChain offers integrations with various APIs, databases, and other tools, making it easier to create more complex applications that leverage external data sources and functionalities alongside LLMs.\n",
       "\n",
       "5. **Prompt Management**: The framework provides utilities for managing and optimizing prompts, which are critical for getting the best results from LLMs.\n",
       "\n",
       "6. **Custom Components**: LangChain allows developers to create custom components that can be seamlessly integrated into their applications, providing flexibility for various use cases.\n",
       "\n",
       "Overall, LangChain is well-suited for projects involving conversational agents, chatbots, data augmentation, document retrieval, and other applications where human-like text generation and manipulation are required. It streamlines the process of leveraging LLMs while incorporating best practices in software engineering."
      ],
      "text/plain": [
       "<IPython.core.display.Markdown object>"
      ]
     },
     "execution_count": 13,
     "metadata": {},
     "output_type": "execute_result"
    }
   ],
   "source": [
    "Markdown(answer)"
   ]
  },
  {
   "cell_type": "code",
   "execution_count": null,
   "id": "a0fb43bb",
   "metadata": {},
   "outputs": [],
   "source": []
  }
 ],
 "metadata": {
  "kernelspec": {
   "display_name": ".venv",
   "language": "python",
   "name": "python3"
  },
  "language_info": {
   "codemirror_mode": {
    "name": "ipython",
    "version": 3
   },
   "file_extension": ".py",
   "mimetype": "text/x-python",
   "name": "python",
   "nbconvert_exporter": "python",
   "pygments_lexer": "ipython3",
   "version": "3.11.11"
  }
 },
 "nbformat": 4,
 "nbformat_minor": 5
}
