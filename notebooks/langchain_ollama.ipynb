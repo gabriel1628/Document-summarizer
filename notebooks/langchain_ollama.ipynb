{
 "cells": [
  {
   "cell_type": "code",
   "execution_count": 7,
   "id": "b5cc2023",
   "metadata": {},
   "outputs": [],
   "source": [
    "from langchain_core.prompts import ChatPromptTemplate\n",
    "from langchain_ollama.llms import OllamaLLM\n",
    "\n",
    "template = \"\"\"Question: {question}\n",
    "\n",
    "Answer: Let's think step by step.\"\"\"\n",
    "\n",
    "prompt = ChatPromptTemplate.from_template(template)"
   ]
  },
  {
   "cell_type": "code",
   "execution_count": 9,
   "id": "fdbfc3d3",
   "metadata": {},
   "outputs": [
    {
     "data": {
      "text/plain": [
       "'LangChain is a Python library that aims to simplify the development of custom chain-based data pipelines. It provides a set of reusable, composable components for building complex data workflows.\\n\\nTo break it down further:\\n\\n1. **Chain**: In LangChain, a \"chain\" refers to a sequence of tasks or operations that are executed in a specific order.\\n2. **Components**: LangChain provides a range of pre-built components, such as `Task`, `Workflow`, and `Pipeline`, that can be used to build chains.\\n3. **Reusability**: The library\\'s design encourages reusability by allowing developers to create modular, composable components that can be easily assembled into larger workflows.\\n\\nBy providing a structured approach to building data pipelines, LangChain aims to make it easier for developers to work with complex data processing tasks and integrate different tools and services.'"
      ]
     },
     "execution_count": 9,
     "metadata": {},
     "output_type": "execute_result"
    }
   ],
   "source": [
    "model = OllamaLLM(model=\"llama3.2\")\n",
    "\n",
    "chain = prompt | model\n",
    "\n",
    "answer = chain.invoke({\"question\": \"What is LangChain?\"})\n",
    "answer"
   ]
  },
  {
   "cell_type": "code",
   "execution_count": 10,
   "id": "7bb4516f",
   "metadata": {},
   "outputs": [],
   "source": [
    "from langchain_ollama import ChatOllama\n",
    "\n",
    "llm = ChatOllama(\n",
    "    model=\"llama3.2\",\n",
    "    temperature=0,\n",
    "    # other params...\n",
    ")"
   ]
  },
  {
   "cell_type": "code",
   "execution_count": 11,
   "id": "0c3e1789",
   "metadata": {},
   "outputs": [
    {
     "data": {
      "text/plain": [
       "AIMessage(content='Je aime le programmation.', additional_kwargs={}, response_metadata={'model': 'llama3.2', 'created_at': '2025-04-24T05:16:50.541896Z', 'done': True, 'done_reason': 'stop', 'total_duration': 1285149155, 'load_duration': 123919722, 'prompt_eval_count': 45, 'prompt_eval_duration': 636479903, 'eval_count': 7, 'eval_duration': 523577553, 'model_name': 'llama3.2'}, id='run-568c2d21-35f7-4120-9887-7ae237f608b6-0', usage_metadata={'input_tokens': 45, 'output_tokens': 7, 'total_tokens': 52})"
      ]
     },
     "execution_count": 11,
     "metadata": {},
     "output_type": "execute_result"
    }
   ],
   "source": [
    "from langchain_core.messages import AIMessage\n",
    "\n",
    "messages = [\n",
    "    (\n",
    "        \"system\",\n",
    "        \"You are a helpful assistant that translates English to French. Translate the user sentence.\",\n",
    "    ),\n",
    "    (\"human\", \"I love programming.\"),\n",
    "]\n",
    "ai_msg = llm.invoke(messages)\n",
    "ai_msg"
   ]
  },
  {
   "cell_type": "code",
   "execution_count": null,
   "id": "fdaab6dc",
   "metadata": {},
   "outputs": [],
   "source": []
  }
 ],
 "metadata": {
  "kernelspec": {
   "display_name": ".venv",
   "language": "python",
   "name": "python3"
  },
  "language_info": {
   "codemirror_mode": {
    "name": "ipython",
    "version": 3
   },
   "file_extension": ".py",
   "mimetype": "text/x-python",
   "name": "python",
   "nbconvert_exporter": "python",
   "pygments_lexer": "ipython3",
   "version": "3.11.11"
  }
 },
 "nbformat": 4,
 "nbformat_minor": 5
}
